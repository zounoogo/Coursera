{
 "cells": [
  {
   "cell_type": "markdown",
   "id": "d357d439-bf3b-4b02-9df5-5c4609d73585",
   "metadata": {},
   "source": [
    "# Data Science Tools and Ecosystem"
   ]
  },
  {
   "cell_type": "markdown",
   "id": "f0bd621d-0720-4cbb-8d54-30353912b010",
   "metadata": {},
   "source": [
    "In this notebook, Data Science Tools and Ecosystem are summarized."
   ]
  },
  {
   "cell_type": "markdown",
   "id": "93850963-dab3-4780-b84d-4e1f7b131347",
   "metadata": {},
   "source": [
    "**Objectives:**\n",
    "\n",
    "- List popular languages for Data Science.\n",
    "- Explore commonly used libraries in Data Science.\n",
    "- Demonstrate basic arithmetic operations in Python.\n",
    "- Identify key tools and development environments for Data Science.\n",
    "- Understand basic concepts and applications in Data Science.\n"
   ]
  },
  {
   "cell_type": "markdown",
   "id": "3f6e45c2-019e-435c-ba5a-301109cda789",
   "metadata": {},
   "source": [
    "Some of the popular languages that Data Scientists use are:\n",
    "1. Python\n",
    "2. R\n",
    "3. C++"
   ]
  },
  {
   "cell_type": "markdown",
   "id": "217d2cc1-a9c0-4cb4-bd7e-7677ccc44f73",
   "metadata": {},
   "source": [
    "Some of the commonly used libraries used by Data Scientists include:\n",
    "1. Pandas\n",
    "2. Matplotlib\n",
    "3. NumPy\n",
    "4. Seaborn"
   ]
  },
  {
   "cell_type": "markdown",
   "id": "179979df-653b-4971-9998-c190c2b94d78",
   "metadata": {},
   "source": [
    "| Data Science Tools          |\n",
    "|-----------------------------|\n",
    "| Jupyter Notebook            |\n",
    "| RStudio                     |\n",
    "| Apache Zeppelin             |"
   ]
  },
  {
   "cell_type": "markdown",
   "id": "7228a58f-3c05-445d-9625-304fd22d407d",
   "metadata": {},
   "source": [
    "### Below are a few examples of evaluating arithmetic expressions in Python\n",
    "\n",
    "\n",
    "/\n",
    "+\n",
    "**\n",
    "*\n",
    "//"
   ]
  },
  {
   "cell_type": "code",
   "execution_count": 2,
   "id": "ab131217-bad0-4ac1-a228-74248432f15b",
   "metadata": {},
   "outputs": [
    {
     "name": "stdout",
     "output_type": "stream",
     "text": [
      "17\n"
     ]
    }
   ],
   "source": [
    "# This is a simple arithmetic expression to multiply then add integers\n",
    "result = (3 * 4) + 5\n",
    "print(result)  # Expected output: 17\n"
   ]
  },
  {
   "cell_type": "markdown",
   "id": "6159d50a-93e4-4acf-8b4c-68d9da5f5b2e",
   "metadata": {},
   "source": [
    "## Author\n",
    "\n",
    "KOURITA Zounoogo Oussama Mahomet\n"
   ]
  },
  {
   "cell_type": "code",
   "execution_count": null,
   "id": "50c31754-2f40-4e7a-8b21-58897c9f1be1",
   "metadata": {},
   "outputs": [],
   "source": []
  }
 ],
 "metadata": {
  "kernelspec": {
   "display_name": "Python 3 (ipykernel)",
   "language": "python",
   "name": "python3"
  },
  "language_info": {
   "codemirror_mode": {
    "name": "ipython",
    "version": 3
   },
   "file_extension": ".py",
   "mimetype": "text/x-python",
   "name": "python",
   "nbconvert_exporter": "python",
   "pygments_lexer": "ipython3",
   "version": "3.13.0"
  }
 },
 "nbformat": 4,
 "nbformat_minor": 5
}
